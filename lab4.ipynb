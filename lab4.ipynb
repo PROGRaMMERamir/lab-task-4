{
  "nbformat": 4,
  "nbformat_minor": 0,
  "metadata": {
    "colab": {
      "provenance": []
    },
    "kernelspec": {
      "name": "python3",
      "display_name": "Python 3"
    },
    "language_info": {
      "name": "python"
    }
  },
  "cells": [
    {
      "cell_type": "markdown",
      "source": [
        "A* Algorithm for Pathfinding\n"
      ],
      "metadata": {
        "id": "irQjpcwlIc-q"
      }
    },
    {
      "cell_type": "code",
      "source": [
        "import heapq\n",
        "def heuristic(a, b):\n",
        "    # Using Manhattan Distance\n",
        "    return abs(a[0] - b[0]) + abs(a[1] - b[1])\n",
        "def a_star(grid):\n",
        "    start = (0, 0)\n",
        "    goal = (4, 4)\n",
        "    open_set = []\n",
        "    heapq.heappush(open_set, (0, start))\n",
        "    came_from = {}\n",
        "    g_score = {start: 0}\n",
        "    f_score = {start: heuristic(start, goal)}\n",
        "    while open_set:\n",
        "        current = heapq.heappop(open_set)[1]\n",
        "        if current == goal:\n",
        "            return reconstruct_path(came_from, current)\n",
        "        for neighbor in get_neighbors(current, grid):\n",
        "            tentative_g_score = g_score[current] + 1\n",
        "            if tentative_g_score < g_score.get(neighbor, float('inf')):\n",
        "                came_from[neighbor] = current\n",
        "                g_score[neighbor] = tentative_g_score\n",
        "                f_score[neighbor] = tentative_g_score + heuristic(neighbor, goal)\n",
        "                if neighbor not in [i[1] for i in open_set]:\n",
        "                    heapq.heappush(open_set, (f_score[neighbor], neighbor))\n",
        "\n",
        "    return None  # No path found\n",
        "\n",
        "def get_neighbors(position, grid):\n",
        "    neighbors = []\n",
        "    x, y = position\n",
        "    for dx, dy in [(-1, 0), (1, 0), (0, -1), (0, 1)]:\n",
        "        nx, ny = x + dx, y + dy\n",
        "        if 0 <= nx < len(grid) and 0 <= ny < len(grid[0]) and grid[nx][ny] == 0:\n",
        "            neighbors.append((nx, ny))\n",
        "    return neighbors\n",
        "\n",
        "def reconstruct_path(came_from, current):\n",
        "    total_path = [current]\n",
        "    while current in came_from:\n",
        "        current = came_from[current]\n",
        "        total_path.append(current)\n",
        "    return total_path[::-1]\n",
        "\n",
        "# Example grid (0 = free space, 1 = obstacle)\n",
        "grid = [\n",
        "    [0, 0, 0, 0, 1],\n",
        "    [0, 1, 1, 0, 1],\n",
        "    [0, 0, 0, 0, 0],\n",
        "    [1, 1, 1, 1, 0],\n",
        "    [0, 0, 0, 0, 0]\n",
        "]\n",
        "\n",
        "path = a_star(grid)\n",
        "\n",
        "# Mark the path on the grid\n",
        "for x, y in path:\n",
        "    if (x, y) != (0, 0) and (x, y) != (4, 4):\n",
        "        grid[x][y] = 'P'\n",
        "\n",
        "for row in grid:\n",
        "    print(row)"
      ],
      "metadata": {
        "colab": {
          "base_uri": "https://localhost:8080/"
        },
        "id": "uH4dZzykIe8h",
        "outputId": "63b1ab92-8369-4ef2-df72-5edecb0fc75f"
      },
      "execution_count": null,
      "outputs": [
        {
          "output_type": "stream",
          "name": "stdout",
          "text": [
            "[0, 'P', 'P', 'P', 1]\n",
            "[0, 1, 1, 'P', 1]\n",
            "[0, 0, 0, 'P', 'P']\n",
            "[1, 1, 1, 1, 'P']\n",
            "[0, 0, 0, 0, 0]\n"
          ]
        }
      ]
    },
    {
      "cell_type": "code",
      "source": [],
      "metadata": {
        "id": "aedeII-4OODR"
      },
      "execution_count": null,
      "outputs": []
    },
    {
      "cell_type": "markdown",
      "source": [
        "Water-Jug Problem Using A* Algorithm\n"
      ],
      "metadata": {
        "id": "uuNpbiC1OUiA"
      }
    },
    {
      "cell_type": "code",
      "source": [
        "from collections import deque\n",
        "\n",
        "class WaterJugState:\n",
        "    def __init__(self, jug1, jug2, target, path=[]):\n",
        "        self.jug1 = jug1\n",
        "        self.jug2 = jug2\n",
        "        self.target = target\n",
        "        self.path = path\n",
        "\n",
        "    def is_goal(self):\n",
        "        return self.jug1 == self.target or self.jug2 == self.target\n",
        "\n",
        "    def get_possible_actions(self):\n",
        "        actions = []\n",
        "        # Fill Jug 1\n",
        "        actions.append(WaterJugState(4, self.jug2, self.target, self.path + [(4, self.jug2)]))\n",
        "        # Fill Jug 2\n",
        "        actions.append(WaterJugState(self.jug1, 3, self.target, self.path + [(self.jug1, 3)]))\n",
        "        # Empty Jug 1\n",
        "        actions.append(WaterJugState(0, self.jug2, self.target, self.path + [(0, self.jug2)]))\n",
        "        # Empty Jug 2\n",
        "        actions.append(WaterJugState(self.jug1, 0, self.target, self.path + [(self.jug1, 0)]))\n",
        "        # Pour Jug 1 to Jug 2\n",
        "        pour_to_jug2 = min(self.jug1, 3 - self.jug2)\n",
        "        actions.append(WaterJugState(self.jug1 - pour_to_jug2, self.jug2 + pour_to_jug2, self.target, self.path + [(self.jug1 - pour_to_jug2, self.jug2 + pour_to_jug2)]))\n",
        "        # Pour Jug 2 to Jug 1\n",
        "        pour_to_jug1 = min(self.jug2, 4 - self.jug1)\n",
        "        actions.append(WaterJugState(self.jug1 + pour_to_jug1, self.jug2 - pour_to_jug1, self.target, self.path + [(self.jug1 + pour_to_jug1, self.jug2 - pour_to_jug1)]))\n",
        "        return actions\n",
        "\n",
        "def water_jug_a_star(initial_state):\n",
        "    open_list = deque([initial_state])\n",
        "    visited = set()\n",
        "\n",
        "    while open_list:\n",
        "        current_state = open_list.popleft()\n",
        "\n",
        "        if current_state.is_goal():\n",
        "            return current_state.path\n",
        "\n",
        "        visited.add((current_state.jug1, current_state.jug2))\n",
        "        for action in current_state.get_possible_actions():\n",
        "            if (action.jug1, action.jug2) not in visited:\n",
        "                open_list.append(action)\n",
        "\n",
        "    return None  # No solution found\n",
        "\n",
        "# Initial state (0, 0), target is to measure 2 liters\n",
        "initial_state = WaterJugState(0, 0, 2)\n",
        "solution = water_jug_a_star(initial_state)\n",
        "if solution:\n",
        "    print(\"Steps to achieve target:\")\n",
        "    for step in solution:\n",
        "        print(step)\n",
        "else:\n",
        "    print(\"No solution found\")\n",
        "\n",
        ""
      ],
      "metadata": {
        "colab": {
          "base_uri": "https://localhost:8080/"
        },
        "id": "hgEF4Z6pOaWY",
        "outputId": "d9f4e9e9-7a3d-45c2-d75c-c2a883f4c35e"
      },
      "execution_count": 4,
      "outputs": [
        {
          "output_type": "stream",
          "name": "stdout",
          "text": [
            "Steps to achieve target:\n",
            "(0, 3)\n",
            "(3, 0)\n",
            "(3, 3)\n",
            "(4, 2)\n"
          ]
        }
      ]
    },
    {
      "cell_type": "markdown",
      "source": [
        "**Hill-Climbing Algorithm for the 8-Queen Problem**"
      ],
      "metadata": {
        "id": "Y_NmOowSateK"
      }
    },
    {
      "cell_type": "code",
      "source": [
        "import random\n",
        "\n",
        "def print_board(queens):\n",
        "    board = [['.'] * 8 for _ in range(8)]\n",
        "    for col in range(8):\n",
        "        board[queens[col]][col] = 'Q'\n",
        "    for row in board:\n",
        "        print(' '.join(row))\n",
        "    print()\n",
        "\n",
        "def calculate_heuristic(queens):\n",
        "    conflicts = 0\n",
        "    for i in range(len(queens)):\n",
        "        for j in range(i + 1, len(queens)):\n",
        "            if queens[i] == queens[j] or abs(queens[i] - queens[j]) == abs(i - j):\n",
        "                conflicts += 1\n",
        "    return conflicts\n",
        "\n",
        "def hill_climbing():\n",
        "    # Random initial state\n",
        "    queens = list(range(8))\n",
        "    random.shuffle(queens)\n",
        "\n",
        "    while True:\n",
        "        current_conflicts = calculate_heuristic(queens)\n",
        "        if current_conflicts == 0:\n",
        "            print(\"Solution found:\")\n",
        "            print_board(queens)\n",
        "            return queens\n",
        "\n",
        "        # Generate neighbors\n",
        "        neighbors = []\n",
        "        for col in range(8):\n",
        "            for row in range(8):\n",
        "                if row != queens[col]:\n",
        "                    new_queens = queens[:]\n",
        "                    new_queens[col] = row\n",
        "                    neighbors.append(new_queens)\n",
        "\n",
        "        # Select the best neighbor\n",
        "        neighbors.sort(key=calculate_heuristic)\n",
        "        best_neighbor = neighbors[0]\n",
        "        best_conflicts = calculate_heuristic(best_neighbor)\n",
        "\n",
        "        if best_conflicts >= current_conflicts:\n",
        "            print(\"No solution found, stuck in local maximum.\")\n",
        "            return None\n",
        "\n",
        "        queens = best_neighbor\n",
        "\n",
        "hill_climbing()\n"
      ],
      "metadata": {
        "colab": {
          "base_uri": "https://localhost:8080/"
        },
        "id": "4htaWDJ7a20B",
        "outputId": "53fee3a9-42e2-4c3c-858c-56636199c30e"
      },
      "execution_count": 5,
      "outputs": [
        {
          "output_type": "stream",
          "name": "stdout",
          "text": [
            "Solution found:\n",
            ". . Q . . . . .\n",
            ". . . . . . Q .\n",
            ". Q . . . . . .\n",
            ". . . . . . . Q\n",
            ". . . . . Q . .\n",
            ". . . Q . . . .\n",
            "Q . . . . . . .\n",
            ". . . . Q . . .\n",
            "\n"
          ]
        },
        {
          "output_type": "execute_result",
          "data": {
            "text/plain": [
              "[6, 2, 0, 5, 7, 4, 1, 3]"
            ]
          },
          "metadata": {},
          "execution_count": 5
        }
      ]
    },
    {
      "cell_type": "markdown",
      "source": [
        "**Mini-Max Algorithm for Tic-Tac-Toe**"
      ],
      "metadata": {
        "id": "CfU-B3DUbGU6"
      }
    },
    {
      "cell_type": "code",
      "source": [
        "import math\n",
        "\n",
        "# Constants for players\n",
        "PLAYER_X = \"X\"\n",
        "PLAYER_O = \"O\"\n",
        "EMPTY = \" \"\n",
        "\n",
        "class TicTacToe:\n",
        "    def __init__(self):\n",
        "        self.board = [[EMPTY] * 3 for _ in range(3)]\n",
        "        self.current_player = PLAYER_X\n",
        "\n",
        "    def print_board(self):\n",
        "        for row in self.board:\n",
        "            print(\"|\".join(row))\n",
        "            print(\"-\" * 5)\n",
        "\n",
        "    def is_winner(self, player):\n",
        "        # Check rows, columns and diagonals\n",
        "        for i in range(3):\n",
        "            if all([self.board[i][j] == player for j in range(3)]) or \\\n",
        "               all([self.board[j][i] == player for j in range(3)]):\n",
        "                return True\n",
        "        if all([self.board[i][i] == player for i in range(3)]) or \\\n",
        "           all([self.board[i][2 - i] == player for i in range(3)]):\n",
        "            return True\n",
        "        return False\n",
        "\n",
        "    def is_draw(self):\n",
        "        return all(cell != EMPTY for row in self.board for cell in row)\n",
        "\n",
        "    def minimax(self, is_maximizing):\n",
        "        if self.is_winner(PLAYER_X):\n",
        "            return -1\n",
        "        if self.is_winner(PLAYER_O):\n",
        "            return 1\n",
        "        if self.is_draw():\n",
        "            return 0\n",
        "\n",
        "        if is_maximizing:\n",
        "            best_score = -math.inf\n",
        "            for i in range(3):\n",
        "                for j in range(3):\n",
        "                    if self.board[i][j] == EMPTY:\n",
        "                        self.board[i][j] = PLAYER_O\n",
        "                        score = self.minimax(False)\n",
        "                        self.board[i][j] = EMPTY\n",
        "                        best_score = max(score, best_score)\n",
        "            return best_score\n",
        "        else:\n",
        "            best_score = math.inf\n",
        "            for i in range(3):\n",
        "                for j in range(3):\n",
        "                    if self.board[i][j] == EMPTY:\n",
        "                        self.board[i][j] = PLAYER_X\n",
        "                        score = self.minimax(True)\n",
        "                        self.board[i][j] = EMPTY\n",
        "                        best_score = min(score, best_score)\n",
        "            return best_score\n",
        "\n",
        "    def best_move(self):\n",
        "        best_score = -math.inf\n",
        "        move = (-1, -1)\n",
        "        for i in range(3):\n",
        "            for j in range(3):\n",
        "                if self.board[i][j] == EMPTY:\n",
        "                    self.board[i][j] = PLAYER_O\n",
        "                    score = self.minimax(False)\n",
        "                    self.board[i][j] = EMPTY\n",
        "                    if score > best_score:\n",
        "                        best_score = score\n",
        "                        move = (i, j)\n",
        "        return move\n",
        "\n",
        "    def play(self):\n",
        "        while True:\n",
        "            self.print_board()\n",
        "            if self.current_player == PLAYER_X:\n",
        "                row, col = map(int, input(\"Enter your move (row and column): \").split())\n",
        "                if self.board[row][col] == EMPTY:\n",
        "                    self.board[row][col] = PLAYER_X\n",
        "                    if self.is_winner(PLAYER_X):\n",
        "                        self.print_board()\n",
        "                        print(\"You win!\")\n",
        "                        break\n",
        "                    self.current_player = PLAYER_O\n",
        "            else:\n",
        "                print(\"AI is making a move...\")\n",
        "                row, col = self.best_move()\n",
        "                self.board[row][col] = PLAYER_O\n",
        "                if self.is_winner(PLAYER_O):\n",
        "                    self.print_board()\n",
        "                    print(\"AI wins!\")\n",
        "                    break\n",
        "                self.current_player = PLAYER_X\n",
        "\n",
        "            if self.is_draw():\n",
        "                self.print_board()\n",
        "                print(\"It's a draw!\")\n",
        "                break\n",
        "\n",
        "if __name__ == \"__main__\":\n",
        "    game = TicTacToe()\n",
        "    game.play()\n",
        "\n"
      ],
      "metadata": {
        "colab": {
          "base_uri": "https://localhost:8080/"
        },
        "id": "nyuzLzDMbL4J",
        "outputId": "1715ea03-ff59-456e-aba7-997e2152a027"
      },
      "execution_count": null,
      "outputs": [
        {
          "output_type": "stream",
          "name": "stdout",
          "text": [
            " | | \n",
            "-----\n",
            " | | \n",
            "-----\n",
            " | | \n",
            "-----\n",
            "Enter your move (row and column): 0 0\n",
            "X| | \n",
            "-----\n",
            " | | \n",
            "-----\n",
            " | | \n",
            "-----\n",
            "AI is making a move...\n",
            "X| | \n",
            "-----\n",
            " |O| \n",
            "-----\n",
            " | | \n",
            "-----\n",
            "Enter your move (row and column): 1 1\n",
            "X| | \n",
            "-----\n",
            " |O| \n",
            "-----\n",
            " | | \n",
            "-----\n"
          ]
        }
      ]
    }
  ]
}